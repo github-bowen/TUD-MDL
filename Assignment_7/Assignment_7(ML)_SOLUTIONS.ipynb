{
  "cells": [
    {
      "cell_type": "markdown",
      "metadata": {
        "id": "7ubCF3Z0TlEk"
      },
      "source": [
        "# **Machine Learning - Assignment 7**\n",
        "\n",
        "*These lab assignments are new in the Machine and Deep Learning course. We'd like to hear what you think!*\n",
        "\n",
        "*Please post any feedback you have on Brightspace. Thanks!*"
      ]
    },
    {
      "cell_type": "markdown",
      "metadata": {
        "id": "SMpnXAi2TlEq"
      },
      "source": [
        "---"
      ]
    },
    {
      "cell_type": "markdown",
      "metadata": {
        "id": "OFkhkoNyTlEr"
      },
      "source": [
        "## Introduction - Complexity in Machine Learning\n",
        "\n",
        "In this assignment, you will learn about the support vector classifier and how to kernelize a nearest mean classifier. The support vector classifier is a powerful tool for classification tasks, and it is based on the idea of finding the hyperplane that maximizes the margin between the classes. The kernelized nearest mean classifier is a simple classifier that can be used to classify data points based on their distance to the mean of each class.\n",
        "\n",
        "**Starting:**\n",
        "* To start working on the assignment in Colab, save a copy on your Google Drive (`File` $\\rightarrow$ `Save a copy in Drive`).\n",
        "\n",
        "**Prerequisites:**\n",
        "* Basic working knowledge of multivariate statistics and linear algebra\n",
        "* Basic knowledge of Python and Numpy. Recommended tutorial for Python and Numpy [here](https://cs231n.github.io/python-numpy-tutorial/).\n",
        "\n",
        "**Learning objectives:**\n",
        "* Should know the fundament of the support vector classifier\n",
        "* Should be able to kernelize a nearest mean classifier\n",
        "\n",
        "**Exercises types:**\n",
        "* **Pen \\& Paper** - Some exercises will ask you to write down mathematical derivations, calculations, explanations, or simple plots and representations. You can perform these exercises on paper or using a LaTeX editor.\n",
        "* **Coding** - Some exercises will ask you to write Python code."
      ]
    },
    {
      "cell_type": "markdown",
      "metadata": {
        "id": "fSMnCvO8TlEv"
      },
      "source": [
        "---"
      ]
    },
    {
      "cell_type": "markdown",
      "metadata": {
        "id": "JvNIC2ejTlEw"
      },
      "source": [
        "---"
      ]
    },
    {
      "cell_type": "code",
      "execution_count": null,
      "metadata": {
        "id": "QICrA0byTlEx",
        "outputId": "cea50cef-9bb1-4d76-d688-7103b3fd6276"
      },
      "outputs": [
        {
          "name": "stdout",
          "output_type": "stream",
          "text": [
            "fatal: destination path 'prtools' already exists and is not an empty directory.\n",
            "Obtaining file:///Users/isidorotamassia/TA/ML-notebooks/ml-assignment-4/prtools\n",
            "  Preparing metadata (setup.py) ... \u001b[?25ldone\n",
            "\u001b[?25hRequirement already satisfied: scikit-learn in /Users/isidorotamassia/opt/anaconda3/lib/python3.9/site-packages (from prtools==1.2.1) (0.24.2)\n",
            "Requirement already satisfied: numpy in /Users/isidorotamassia/opt/anaconda3/lib/python3.9/site-packages (from prtools==1.2.1) (1.26.4)\n",
            "Requirement already satisfied: matplotlib in /Users/isidorotamassia/opt/anaconda3/lib/python3.9/site-packages (from prtools==1.2.1) (3.4.3)\n",
            "Requirement already satisfied: requests in /Users/isidorotamassia/opt/anaconda3/lib/python3.9/site-packages (from prtools==1.2.1) (2.31.0)\n",
            "Requirement already satisfied: cycler>=0.10 in /Users/isidorotamassia/opt/anaconda3/lib/python3.9/site-packages (from matplotlib->prtools==1.2.1) (0.10.0)\n",
            "Requirement already satisfied: kiwisolver>=1.0.1 in /Users/isidorotamassia/opt/anaconda3/lib/python3.9/site-packages (from matplotlib->prtools==1.2.1) (1.3.1)\n",
            "Requirement already satisfied: pillow>=6.2.0 in /Users/isidorotamassia/opt/anaconda3/lib/python3.9/site-packages (from matplotlib->prtools==1.2.1) (8.4.0)\n",
            "Requirement already satisfied: pyparsing>=2.2.1 in /Users/isidorotamassia/opt/anaconda3/lib/python3.9/site-packages (from matplotlib->prtools==1.2.1) (3.0.4)\n",
            "Requirement already satisfied: python-dateutil>=2.7 in /Users/isidorotamassia/opt/anaconda3/lib/python3.9/site-packages (from matplotlib->prtools==1.2.1) (2.8.2)\n",
            "Requirement already satisfied: charset-normalizer<4,>=2 in /Users/isidorotamassia/opt/anaconda3/lib/python3.9/site-packages (from requests->prtools==1.2.1) (2.0.4)\n",
            "Requirement already satisfied: idna<4,>=2.5 in /Users/isidorotamassia/opt/anaconda3/lib/python3.9/site-packages (from requests->prtools==1.2.1) (3.2)\n",
            "Requirement already satisfied: urllib3<3,>=1.21.1 in /Users/isidorotamassia/opt/anaconda3/lib/python3.9/site-packages (from requests->prtools==1.2.1) (2.2.1)\n",
            "Requirement already satisfied: certifi>=2017.4.17 in /Users/isidorotamassia/opt/anaconda3/lib/python3.9/site-packages (from requests->prtools==1.2.1) (2021.10.8)\n",
            "Requirement already satisfied: scipy>=0.19.1 in /Users/isidorotamassia/opt/anaconda3/lib/python3.9/site-packages (from scikit-learn->prtools==1.2.1) (1.13.0)\n",
            "Requirement already satisfied: joblib>=0.11 in /Users/isidorotamassia/opt/anaconda3/lib/python3.9/site-packages (from scikit-learn->prtools==1.2.1) (1.1.0)\n",
            "Requirement already satisfied: threadpoolctl>=2.0.0 in /Users/isidorotamassia/opt/anaconda3/lib/python3.9/site-packages (from scikit-learn->prtools==1.2.1) (2.2.0)\n",
            "Requirement already satisfied: six in /Users/isidorotamassia/opt/anaconda3/lib/python3.9/site-packages (from cycler>=0.10->matplotlib->prtools==1.2.1) (1.16.0)\n",
            "Installing collected packages: prtools\n",
            "  Attempting uninstall: prtools\n",
            "    Found existing installation: prtools 1.2.1\n",
            "    Uninstalling prtools-1.2.1:\n",
            "      Successfully uninstalled prtools-1.2.1\n",
            "  Running setup.py develop for prtools\n",
            "Successfully installed prtools-1.2.1\n",
            "\n",
            "\u001b[1m[\u001b[0m\u001b[34;49mnotice\u001b[0m\u001b[1;39;49m]\u001b[0m\u001b[39;49m A new release of pip is available: \u001b[0m\u001b[31;49m24.0\u001b[0m\u001b[39;49m -> \u001b[0m\u001b[32;49m24.2\u001b[0m\n",
            "\u001b[1m[\u001b[0m\u001b[34;49mnotice\u001b[0m\u001b[1;39;49m]\u001b[0m\u001b[39;49m To update, run: \u001b[0m\u001b[32;49mpip install --upgrade pip\u001b[0m\n",
            "Requirement already satisfied: numpy in /Users/isidorotamassia/opt/anaconda3/lib/python3.9/site-packages (1.26.4)\n",
            "\n",
            "\u001b[1m[\u001b[0m\u001b[34;49mnotice\u001b[0m\u001b[1;39;49m]\u001b[0m\u001b[39;49m A new release of pip is available: \u001b[0m\u001b[31;49m24.0\u001b[0m\u001b[39;49m -> \u001b[0m\u001b[32;49m24.2\u001b[0m\n",
            "\u001b[1m[\u001b[0m\u001b[34;49mnotice\u001b[0m\u001b[1;39;49m]\u001b[0m\u001b[39;49m To update, run: \u001b[0m\u001b[32;49mpip install --upgrade pip\u001b[0m\n",
            "Requirement already satisfied: matplotlib in /Users/isidorotamassia/opt/anaconda3/lib/python3.9/site-packages (3.4.3)\n",
            "Requirement already satisfied: cycler>=0.10 in /Users/isidorotamassia/opt/anaconda3/lib/python3.9/site-packages (from matplotlib) (0.10.0)\n",
            "Requirement already satisfied: kiwisolver>=1.0.1 in /Users/isidorotamassia/opt/anaconda3/lib/python3.9/site-packages (from matplotlib) (1.3.1)\n",
            "Requirement already satisfied: numpy>=1.16 in /Users/isidorotamassia/opt/anaconda3/lib/python3.9/site-packages (from matplotlib) (1.26.4)\n",
            "Requirement already satisfied: pillow>=6.2.0 in /Users/isidorotamassia/opt/anaconda3/lib/python3.9/site-packages (from matplotlib) (8.4.0)\n",
            "Requirement already satisfied: pyparsing>=2.2.1 in /Users/isidorotamassia/opt/anaconda3/lib/python3.9/site-packages (from matplotlib) (3.0.4)\n",
            "Requirement already satisfied: python-dateutil>=2.7 in /Users/isidorotamassia/opt/anaconda3/lib/python3.9/site-packages (from matplotlib) (2.8.2)\n",
            "Requirement already satisfied: six in /Users/isidorotamassia/opt/anaconda3/lib/python3.9/site-packages (from cycler>=0.10->matplotlib) (1.16.0)\n",
            "\n",
            "\u001b[1m[\u001b[0m\u001b[34;49mnotice\u001b[0m\u001b[1;39;49m]\u001b[0m\u001b[39;49m A new release of pip is available: \u001b[0m\u001b[31;49m24.0\u001b[0m\u001b[39;49m -> \u001b[0m\u001b[32;49m24.2\u001b[0m\n",
            "\u001b[1m[\u001b[0m\u001b[34;49mnotice\u001b[0m\u001b[1;39;49m]\u001b[0m\u001b[39;49m To update, run: \u001b[0m\u001b[32;49mpip install --upgrade pip\u001b[0m\n"
          ]
        }
      ],
      "source": [
        "# Necessary libraries\n",
        "\n",
        "!git clone https://github.com/DMJTax/prtools.git\n",
        "!pip install -e prtools\n",
        "!pip install numpy\n",
        "!pip install matplotlib"
      ]
    },
    {
      "cell_type": "markdown",
      "metadata": {
        "id": "lukQED7kTlE0"
      },
      "source": [
        "## 1 - The Support Vector Machine"
      ]
    },
    {
      "cell_type": "markdown",
      "metadata": {
        "id": "sMKwFLScTlE1"
      },
      "source": [
        "### **Exercise 1.1** (Pen & Paper)\n",
        "\n",
        "Consider the following 2D two-class data set. Class one contains two points:\n",
        "$\\begin{pmatrix} 0 \\\\ 1 \\end{pmatrix}$ and $\\begin{pmatrix} 0 \\\\ 3 \\end{pmatrix}$. Class two has a single data point: $\\begin{pmatrix} 2 \\\\ 0 \\end{pmatrix}$."
      ]
    },
    {
      "cell_type": "markdown",
      "metadata": {
        "id": "rHRwvENxTlE2"
      },
      "source": [
        "(a) Determine the classifier that maximizes the margin on this classification problem, using a graphical/geometrical reasoning (probably you cannot do the minimization of the support vector error function by hand). How many support vector are obtained?."
      ]
    },
    {
      "cell_type": "markdown",
      "metadata": {
        "id": "Bg73dRmDTlE2"
      },
      "source": [
        "### Answer\n",
        "The classification boundary is the perpendicular bisector of the line segment between (0,1)\n",
        "and (2,0). There are two support vectors."
      ]
    },
    {
      "cell_type": "markdown",
      "metadata": {
        "id": "JaVFAgHeTlE3"
      },
      "source": [
        "(b) Shift the first point above, $\\begin{pmatrix} 0 \\\\ 1 \\end{pmatrix}$, to $\\begin{pmatrix} 0 \\\\ -1 \\end{pmatrix}$. How does the new maximum margin classifier look? What happened to the number of support vectors?"
      ]
    },
    {
      "cell_type": "markdown",
      "metadata": {
        "id": "cp3m-UO2TlE4"
      },
      "source": [
        "### Answer\n",
        "The classification boundary now becomes the vertical line through (1,0). All three points become support vectors."
      ]
    },
    {
      "cell_type": "markdown",
      "metadata": {
        "id": "2n4h5REdTlE5"
      },
      "source": [
        "### **Exercise 1.2** (Pen & Paper)\n",
        "\n",
        "Demonstrate, possibly graphically/geometrically, that the support vector classifier is sensitive to feature scaling. Hint: this can be done in 2D based on a training set of size 3 and a single test point.\n"
      ]
    },
    {
      "cell_type": "markdown",
      "metadata": {
        "id": "0gUkiT-LTlE5"
      },
      "source": [
        "### Answer\n",
        "One possibility is to consider (0,0) for one class, (1,1) and (2,0) for the other class, and (1,0)\n",
        "as a test point and see how the classification of the last point changes with diﬀerent scalings of\n",
        "the first feature."
      ]
    },
    {
      "cell_type": "markdown",
      "metadata": {
        "id": "SirgAnpLTlE7"
      },
      "source": [
        "### **Exercise 1.3** (Pen & Paper)\n",
        "\n",
        "Study, again, small data sets in 2D, for instance those from 1.1 and 1.2 above, or generate one yourself and compare the solution of the LDA classifier to those obtained by means of an SVM. In what cases do they differ? Do you see the pattern?\n"
      ]
    },
    {
      "cell_type": "markdown",
      "metadata": {
        "id": "K8hXUtUUTlE8"
      },
      "source": [
        "### Answer\n",
        "The two solutions will be the same when the number of support vectors is three in the 2D\n",
        "case. LDA will always have three “support vectors” in this 2D setting."
      ]
    },
    {
      "cell_type": "markdown",
      "metadata": {
        "id": "JPi-tDpSTlE9"
      },
      "source": [
        "## 2 - The Nonlinear Support Vector Machine"
      ]
    },
    {
      "cell_type": "markdown",
      "metadata": {
        "id": "3poEF5i8TlE-"
      },
      "source": [
        "### **Exercise 2.1** (Pen & Paper)\n",
        "\n",
        "(a) Assume we have two objects, represented by 1-dimensional feature vectors $x$ and $\\chi$. Find a feature mapping $\\phi$ that leads to the inner product $\\exp(- (x - \\chi)^2)$. Hints: expand the term $-(x - \\chi)^2$ and write $\\exp(2x\\chi)$ as a series based on the Taylor series of the exponential.\n",
        "\n",
        "(b) What is the dimensionality of the space that $\\phi$ maps a 1-dimensional feature vector to?"
      ]
    },
    {
      "cell_type": "markdown",
      "metadata": {
        "id": "wg_4aQM4TlE_"
      },
      "source": [
        "### Answer\n",
        "(a) Using the Taylor expansion, one gets \\\\( \\exp (-(x-\\chi )^2) = \\exp (-x^2) \\exp (-\\chi ^2) \\exp (2 x \\chi ) =  \\exp (-x^2) \\exp (-\\chi ^2) \\sum \\frac  {(2x \\chi )^n}{n!}\\\\).\n",
        "Rewriting this to \\\\( \\exp (-x^2) \\exp (-\\chi ^2) \\sum \\frac  {\\sqrt {2^n} x^n}{\\sqrt {n!}} \\frac  {\\sqrt {2^n} \\chi ^n}{\\sqrt {n!}}\\\\)\n",
        "(or something similar), one sees that the feature mapping should be \\\\(\\phi(x):= \\exp(-x^2)(1,\\sqrt{2}x,\\frac{2}{2!}x^2,\\frac{2^{3/2}}{3!}x^3, \\ldots  )^T\\\\) .\n",
        "\n",
        "If you do not see this, simply calculate the inner product \\\\( \\phi(x)^T \\phi(\\chi ) \\\\).\n",
        "\n",
        "(b) \\\\(\\infty\\\\)"
      ]
    },
    {
      "cell_type": "markdown",
      "metadata": {
        "id": "DzcVHB_UTlE_"
      },
      "source": [
        "### **Exercise 2.2** (Pen & Paper)\n",
        "\n",
        "(a) Express the squared distance to any class mean in terms of regular inner products between the test point $x$ and, say, the $N_C$ samples $x^C_{i}$ from class $C$.\n",
        "\n",
        "(b) Kernelize the nearest mean classifier by means of the Gaussian kernel, $K(x, \\chi) = \\exp\\left(-\\frac{\\|x - \\chi\\|^2}{2\\sigma^2}\\right)$. Can you show that this boils down to something like a Parzen classifier? You may limit yourself to the two-class case.\n"
      ]
    },
    {
      "cell_type": "markdown",
      "metadata": {
        "id": "dctxZbX0TlFA"
      },
      "source": [
        "### Answer\n",
        "(a) \\\\(\\|  x - \\frac{1}{N_C}\\sum x_i^C \\|^2 = \\langle x - \\frac{1}{N_C}\\sum x_i^C, x - \\frac{1}{N_C}\\sum x_i^C \\rangle\\\\).\n",
        "Expanding and some minor rewriting gives \\\\( \\langle x,x \\rangle - \\frac{2}{N_C}\\sum \\langle x, x_i^C \\rangle + \\frac{1}{N_C^2} \\sum _i  \\sum _j \\langle x_i^C, x_j^C \\rangle\\\\).\n",
        "\n",
        "(b) Realize that for the Gaussian kernel, we have $K(x,\\chi) = 1$\n",
        "if $x = \\chi$.  Comparing samples from class \\\\(C\\\\) and class \\\\(K\\\\) gives:\n",
        "$k(x,x) - \\frac{2}{N_C}\\sum k(x, x_i^C) + \\frac{1}{N_C^2}\\sum_i \\sum_j k(x_i^C, x_j^C) = k(x,x) - \\frac{2}{N_K}\\sum k(x, x_i^K) +\n",
        "\\frac{1}{N_K^2}\\sum_i \\sum_j k(x_i^K, x_j^K)$.\n",
        "This can be simplified to the following equation for the decision boundary: $\\frac{1}{N_C}\\sum k(x, x_i^C) - \\frac{1}{N_K}\\sum k(x, x_i^K) + c = 0$, where \\\\(c\\\\) is a constant that merely depends on the training data.\n",
        "\\\\(\\frac{1}{N_C}\\sum k(x, x_i^C)\\\\) basically provides a Parzen estimate of class \\\\(C\\\\)."
      ]
    },
    {
      "cell_type": "markdown",
      "metadata": {
        "id": "hXB-nuggTlFA"
      },
      "source": [
        "### **Exercise 2.3** (Coding)\n",
        "The function svc can be used to both construct linear and non- linear support vector machines. The following kernels K are defined:\n",
        "\n",
        "* 'linear' -> linear kernel (default)\n",
        "* 'poly' ->  polynomial kernel with degree par\n",
        "* 'rbf' -> RBF or Gaussian kernel with width pa\n",
        "\n",
        "To define the kernel in svc using the prtools library, supply a second input argument with a list of kernel type, kernel parameter, and tradeoff parameter C: svc(a,(kernel type,par,C)).\n",
        "\n",
        "(a) On a = gendatb([20,20]), train an svc with a ’rbf’ kernel, i.e., the Gaussian kernel, for kernel widths that vary from fairly small (0.1?) to fairly large (10?). Check with a large (enough) independent banana test set how the performance varies for the different choices of kernel widths.\n",
        "\n",
        "(b) How does the kernel width of parzenc relate to the width of the radial basis function?\n",
        "\n",
        "(c) Why can the svc, potentially, perform much faster at test time than the Parzen classifier?"
      ]
    },
    {
      "cell_type": "code",
      "execution_count": null,
      "metadata": {
        "id": "srEVbTZBTlFB",
        "outputId": "7dac455c-9a43-457e-d42a-fbfb80242bf2"
      },
      "outputs": [
        {
          "name": "stdout",
          "output_type": "stream",
          "text": [
            "0.575\n",
            "0.575\n"
          ]
        },
        {
          "data": {
            "text/plain": [
              "[<matplotlib.collections.LineCollection at 0x7fc5ea72f5b0>]"
            ]
          },
          "execution_count": 3,
          "metadata": {},
          "output_type": "execute_result"
        },
        {
          "data": {
            "image/png": "[encoded data removed]",
            "text/plain": [
              "<Figure size 432x288 with 1 Axes>"
            ]
          },
          "metadata": {
            "needs_background": "light"
          },
          "output_type": "display_data"
        }
      ],
      "source": [
        "#TODO\n",
        "\n",
        "#POSSIBLE SOLUTION\n",
        "import prtools as pr\n",
        "\n",
        "a = pr.gendatb([20,20])\n",
        "\n",
        "#train a svc with a rbf kernel with 0.1 kernel width\n",
        "w1 = pr.svc(('rbf', 0.1,1))\n",
        "w1.train(a)\n",
        "\n",
        "#now for 10 kernel width\n",
        "w2 = pr.svc(('rbf', 10,1))\n",
        "w2.train(a)\n",
        "\n",
        "#create a banana test set\n",
        "b = pr.gendatb([20,20])\n",
        "\n",
        "e1 = pr.testc(b, w1)  \"\"\"Self Note: Wrong!!!!!!\"\"\"\n",
        "e2 = pr.testc(b, w2)\n",
        "\n",
        "print(e1)\n",
        "print(e2)\n",
        "\n",
        "#plot the data\n",
        "pr.scatterd(a)\n",
        "pr.plotc(w1)\n",
        "pr.plotc(w2)\n"
      ]
    }
  ],
  "metadata": {
    "kernelspec": {
      "display_name": "Python 3 (ipykernel)",
      "language": "python",
      "name": "python3"
    },
    "language_info": {
      "codemirror_mode": {
        "name": "ipython",
        "version": 3
      },
      "file_extension": ".py",
      "mimetype": "text/x-python",
      "name": "python",
      "nbconvert_exporter": "python",
      "pygments_lexer": "ipython3",
      "version": "3.9.7"
    },
    "colab": {
      "provenance": [],
      "toc_visible": true
    }
  },
  "nbformat": 4,
  "nbformat_minor": 0
}