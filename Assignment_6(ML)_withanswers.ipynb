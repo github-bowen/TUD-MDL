{
  "cells": [
    {
      "cell_type": "markdown",
      "metadata": {
        "id": "_JMy19CWXeRS"
      },
      "source": [
        "# **Machine Learning - Assignment 6**\n",
        "\n",
        "*These lab assignments are new in the Machine and Deep Learning course. We'd like to hear what you think!*\n",
        "\n",
        "*Please post any feedback you have on Brightspace. Thanks!*\n"
      ]
    },
    {
      "cell_type": "markdown",
      "metadata": {
        "id": "UfOCsQsrXeRW"
      },
      "source": [
        "---"
      ]
    },
    {
      "cell_type": "markdown",
      "metadata": {
        "id": "Bk8w093FXeRX"
      },
      "source": [
        "## Introduction - Evaluation in Machine Learning\n",
        "\n",
        "In this assignment, you will learn about common evaluation techniques in machine learning. This includes evaluating the error of the classifier, analyzing the learning curves, and performing cross-validation.\n",
        "\n",
        "**Prerequisites:**\n",
        "* Basic working knowledge of multivariate statistics and linear algebra\n",
        "* Basic knowledge of Python and Numpy. Recommended tutorial for Python and Numpy [here](https://cs231n.github.io/python-numpy-tutorial/).\n",
        "\n",
        "**Learning objectives:**\n",
        "* Can explain what sources of performance variability there are in machine learning\n",
        "* Knowing what a learning curve is\n",
        "* Can understand the difference between train and test error\n",
        "* Can explain what cross-validation is and how it is used\n",
        "\n",
        "**Exercises types:**\n",
        "* **Pen \\& Paper** - Some exercises will ask you to write down mathematical derivations, calculations, explanations, or simple plots and representations. You can perform these exercises on paper or using a LaTeX editor.\n",
        "* **Coding** - Some exercises will ask you to write Python code."
      ]
    },
    {
      "cell_type": "code",
      "execution_count": null,
      "metadata": {
        "id": "QkAcswzjXeRd"
      },
      "outputs": [],
      "source": [
        "import numpy as np\n",
        "import matplotlib.pyplot as plt\n",
        "from sklearn import datasets"
      ]
    },
    {
      "cell_type": "markdown",
      "metadata": {
        "id": "Gbr7eBVVXeRg"
      },
      "source": [
        "---"
      ]
    },
    {
      "cell_type": "markdown",
      "metadata": {
        "id": "a2YqkRm5XeRg"
      },
      "source": [
        "## 1 - Sources of Variation (**Coding**)"
      ]
    },
    {
      "cell_type": "markdown",
      "metadata": {
        "id": "C0cLVpfCXeRh"
      },
      "source": [
        "### **Exercise 1.1**\n",
        "\n",
        "In this exercise we investigate the difference in behavior of the error on the training and the test set. Generate a large test set and study the variations in the classification error based on repeatedly generated training sets:"
      ]
    },
    {
      "cell_type": "code",
      "execution_count": null,
      "metadata": {
        "id": "2X0SeAMxXeRi",
        "outputId": "ae941d09-1ee9-4688-9224-147a4edac9bc"
      },
      "outputs": [
        {
          "data": {
            "text/plain": [
              "LogisticRegression()"
            ]
          },
          "execution_count": 2,
          "metadata": {},
          "output_type": "execute_result"
        }
      ],
      "source": [
        "#TODO\n",
        "\n",
        "#POSSIBLE SOLUTION\n",
        "\n",
        "#create a fixed test set\n",
        "X_test, y_test = datasets.make_classification(n_samples=1000, n_features=2, n_informative=2, n_redundant=0, n_clusters_per_class=1, random_state=4)\n",
        "\n",
        "#import linear classifier from sklearn\n",
        "from sklearn.linear_model import LogisticRegression\n",
        "\n",
        "#Create an instance of the classifier\n",
        "clf = LogisticRegression()\n"
      ]
    },
    {
      "cell_type": "code",
      "execution_count": null,
      "metadata": {
        "id": "U5mGI6aBXeRk",
        "outputId": "64e6c43e-046f-440a-c9e8-60c3af3f213e"
      },
      "outputs": [
        {
          "name": "stdout",
          "output_type": "stream",
          "text": [
            "0.823\n"
          ]
        }
      ],
      "source": [
        "#create a random training set multiple times modifying the random state\n",
        "\n",
        "X_train, y_train = datasets.make_classification(n_samples=1000, n_features=2, n_informative=2, n_redundant=0, n_clusters_per_class=1, random_state=5)\n",
        "\n",
        "#Train the classifier\n",
        "clf.fit(X_train, y_train)\n",
        "\n",
        "#Run the cell multiple times with different random states to see the difference in performance\n",
        "print(clf.score(X_test, y_test))"
      ]
    },
    {
      "cell_type": "markdown",
      "metadata": {
        "id": "gKrDTa-FXeRm"
      },
      "source": [
        "#### (a) What causes the variation in the error?\n",
        "\n",
        "Now do the same for different test sets:"
      ]
    },
    {
      "cell_type": "code",
      "execution_count": null,
      "metadata": {
        "id": "wnpotE-MXeRm"
      },
      "outputs": [],
      "source": [
        "#TODO\n",
        "\n",
        "#POSSIBLE SOLUTION\n",
        "\n",
        "#create a fixed training set\n",
        "X_train, y_train = datasets.make_classification(n_samples=10000, n_features=2, n_informative=2, n_redundant=0, n_clusters_per_class=1, random_state=1)\n",
        "\n",
        "#import linear classifier from sklearn\n",
        "from sklearn.linear_model import LogisticRegression\n",
        "\n",
        "#Create an instance of the classifier\n",
        "clf = LogisticRegression()\n",
        "\n",
        "#Train the classifier\n",
        "clf.fit(X_train, y_train)"
      ]
    },
    {
      "cell_type": "code",
      "execution_count": null,
      "metadata": {
        "id": "Xcy1rS4DXeRo"
      },
      "outputs": [],
      "source": [
        "#create a large test set from the same distribution multiple times and study the difference in performance\n",
        "X_test, y_test = datasets.make_classification(n_samples=1000, n_features=2, n_informative=2, n_redundant=0, n_clusters_per_class=1, random_state=4)\n",
        "\n",
        "#Run the cell multiple times with different random states to see the difference in performance\n",
        "print(clf.score(X_test, y_test))"
      ]
    },
    {
      "cell_type": "markdown",
      "metadata": {
        "id": "1k3jjSK-XeRp"
      },
      "source": [
        "#### (b) Again explain what causes the variance observed in the results."
      ]
    },
    {
      "cell_type": "markdown",
      "metadata": {
        "id": "nsf29LMAXeRq"
      },
      "source": [
        "---"
      ]
    },
    {
      "cell_type": "markdown",
      "metadata": {
        "id": "Hya2lfdNXeRq"
      },
      "source": [
        "## 2 - Learning Curves (**Coding**)"
      ]
    },
    {
      "cell_type": "markdown",
      "metadata": {
        "id": "dW1cWP1FXeRr"
      },
      "source": [
        "### **Exercise 2.1**\n",
        "\n",
        "Using prtools lib, generate Highleyman classes (gendath) with a 1000 samples per class. Enlarge the feature dimensionality of this set by adding 60 dimensions of class independent randomness, i.e., plain noise. After that, use the function pr.cleval to generate learning curves for nmc, ldc, and qdc using 64, 128, 256, and 512 objects in the training set (make sure that you repeat often enough. . . ). Note that cleval automatically plots the learning curves."
      ]
    },
    {
      "cell_type": "code",
      "execution_count": null,
      "metadata": {
        "id": "H0aSU6bgXeRs"
      },
      "outputs": [],
      "source": [
        "!git clone https://github.com/DMJTax/prtools.git\n",
        "!pip install -e prtools\n",
        "import prtools as pr"
      ]
    },
    {
      "cell_type": "code",
      "execution_count": null,
      "metadata": {
        "id": "Ba9HDFqAXeRs",
        "outputId": "4c8b2165-0d0c-4507-adc2-89a38f132b4d"
      },
      "outputs": [
        {
          "data": {
            "image/png": "[encoded data removed]",
            "text/plain": [
              "<Figure size 432x288 with 1 Axes>"
            ]
          },
          "metadata": {
            "needs_background": "light"
          },
          "output_type": "display_data"
        }
      ],
      "source": [
        "#TODO\n",
        "\n",
        "#POSSIBLE SOLUTION\n",
        "#for this specific exercise, we need to use prtools as it gives\n",
        "#us the possibility to generate a this specific kind of data\n",
        "\n",
        "#generate a hyghleyman dataset with a 1000 samples per class\n",
        "a = pr.gendath([1000,1000])\n",
        "\n",
        "#add some noise to the dataset\n",
        "noise = np.random.randn(2000, 60)\n",
        "a.concatenate(noise,axis=1)\n",
        "\n",
        "\n",
        "#use cleval to evaluate the performance of a classifier\n",
        "e = pr.cleval(a, pr.ldc(), trainsize=[64, 128, 256, 512])\n",
        "f = pr.cleval(a,pr.qdc(), trainsize=[64, 128, 256, 512])\n",
        "g = pr.cleval(a,pr.nmc(), trainsize=[64, 128, 256, 512])\n",
        "\n"
      ]
    },
    {
      "cell_type": "markdown",
      "metadata": {
        "id": "2obTSCzLXeRu"
      },
      "source": [
        "#### (a) Can you explain the overall behavior of these curves?"
      ]
    },
    {
      "cell_type": "markdown",
      "metadata": {
        "id": "Ky17Z5XFXeRu"
      },
      "source": [
        "#### (b) Explain why the curves intersect. Which classifier performs best?"
      ]
    },
    {
      "cell_type": "markdown",
      "metadata": {
        "id": "WbXhdc2jXeRv"
      },
      "source": [
        "#### (c) What do you expect the limiting behavior of learning curves is? That is, if we were able to   train on more and more data?"
      ]
    },
    {
      "cell_type": "markdown",
      "metadata": {
        "id": "KVkBd01AXeRw"
      },
      "source": [
        "---"
      ]
    },
    {
      "cell_type": "markdown",
      "metadata": {
        "id": "70-IvIYQXeRw"
      },
      "source": [
        "## 3 - Cross-Validation (**Coding**)"
      ]
    },
    {
      "cell_type": "markdown",
      "metadata": {
        "id": "d0Kj8Ei1XeRx"
      },
      "source": [
        "### **Exercise 3.1**\n",
        "\n",
        "Generate a small data set, say, with 10 objects per class."
      ]
    },
    {
      "cell_type": "code",
      "execution_count": null,
      "metadata": {
        "id": "b4gvdUfNXeRx"
      },
      "outputs": [],
      "source": [
        "#TODO\n",
        "\n",
        "#POSSIBLE SOLUTION\n",
        "\n",
        "from sklearn.datasets import make_classification\n",
        "\n",
        "#generate a small dataset with 10 objects per class, 3 classes\n",
        "\n",
        "X, y = make_classification(n_samples=30, n_features=2, n_informative=2, n_redundant=0,\n",
        "                           n_clusters_per_class=1, n_classes=3, random_state=42)"
      ]
    },
    {
      "cell_type": "markdown",
      "metadata": {
        "id": "Defa3p2uXeRy"
      },
      "source": [
        "#### (a) Using n-fold cross-validation,make plots for the error rates for kNN and 1NN over different values of n. Also calculate the standard deviation of the error estimate, e.g., by performing the cross-validation 10 times"
      ]
    },
    {
      "cell_type": "code",
      "execution_count": null,
      "metadata": {
        "id": "-9DBoDeFXeRy",
        "outputId": "279333fd-c3b0-44ce-a155-fe061c9005bd"
      },
      "outputs": [
        {
          "data": {
            "image/png": "[encoded data removed]",
            "text/plain": [
              "<Figure size 1008x504 with 1 Axes>"
            ]
          },
          "metadata": {
            "needs_background": "light"
          },
          "output_type": "display_data"
        }
      ],
      "source": [
        "#TODO\n",
        "\n",
        "#POSSIBLE SOLUTION\n",
        "\n",
        "from sklearn.model_selection import cross_val_score, StratifiedKFold\n",
        "from sklearn.neighbors import KNeighborsClassifier\n",
        "\n",
        "# Define the range of n for n-fold cross-validation\n",
        "n_splits_range = range(2, 11)\n",
        "\n",
        "# Initialize lists to store mean error rates and standard deviations\n",
        "error_rates_knn = []\n",
        "error_std_knn = []\n",
        "error_rates_1nn = []\n",
        "error_std_1nn = []\n",
        "\n",
        "# Perform cross-validation and collect error rates for kNN (e.g. k = 5) and 1NN\n",
        "for n_splits in n_splits_range:\n",
        "    knn_errors = []\n",
        "    knn_1_errors = []\n",
        "    skf = StratifiedKFold(n_splits=n_splits, shuffle=True, random_state=42)\n",
        "\n",
        "    for _ in range(10):  # Repeat the cross-validation process 10 times\n",
        "        knn = KNeighborsClassifier(n_neighbors=5)\n",
        "        knn_1 = KNeighborsClassifier(n_neighbors=1)\n",
        "\n",
        "        knn_scores = cross_val_score(knn, X, y, cv=skf, scoring='accuracy')\n",
        "        knn_1_scores = cross_val_score(knn_1, X, y, cv=skf, scoring='accuracy')\n",
        "\n",
        "        knn_errors.append(1 - np.mean(knn_scores))\n",
        "        knn_1_errors.append(1 - np.mean(knn_1_scores))\n",
        "\n",
        "    error_rates_knn.append(np.mean(knn_errors))\n",
        "    error_std_knn.append(np.std(knn_errors))\n",
        "    error_rates_1nn.append(np.mean(knn_1_errors))\n",
        "    error_std_1nn.append(np.std(knn_1_errors))\n",
        "\n",
        "# Plotting the error rates with standard deviation\n",
        "plt.figure(figsize=(14, 7))\n",
        "plt.errorbar(n_splits_range, error_rates_knn, yerr=error_std_knn, label='kNN (k=5)', fmt='-o')\n",
        "plt.errorbar(n_splits_range, error_rates_1nn, yerr=error_std_1nn, label='1NN (k=1)', fmt='-o')\n",
        "plt.xlabel('Number of folds (n)')\n",
        "plt.ylabel('Error rate')\n",
        "plt.title('Error rates for kNN and 1NN with different n-fold cross-validation')\n",
        "plt.legend()\n",
        "plt.grid(True)\n",
        "plt.show()\n",
        "\n",
        "\n"
      ]
    },
    {
      "cell_type": "markdown",
      "metadata": {
        "id": "wF9p2rxAXeR0"
      },
      "source": [
        "#### (b) What do you notice about the estimated error rates? What is the general trend (maybe you should redo the data generation and the cross-validation a couple of times)."
      ]
    },
    {
      "cell_type": "markdown",
      "metadata": {
        "id": "90wgTlYsXeR0"
      },
      "source": [
        "#### (c) What happens to the variance of the estimates for varying n? Again, we are interested in the general trend."
      ]
    },
    {
      "cell_type": "markdown",
      "metadata": {
        "id": "0RVNSC2zXeR0"
      },
      "source": [
        "#### (d) How would the observations change if one would repeat the experiments with much larger dataset? Would they change?"
      ]
    }
  ],
  "metadata": {
    "kernelspec": {
      "display_name": "Python 3 (ipykernel)",
      "language": "python",
      "name": "python3"
    },
    "language_info": {
      "codemirror_mode": {
        "name": "ipython",
        "version": 3
      },
      "file_extension": ".py",
      "mimetype": "text/x-python",
      "name": "python",
      "nbconvert_exporter": "python",
      "pygments_lexer": "ipython3",
      "version": "3.9.7"
    },
    "colab": {
      "provenance": [],
      "toc_visible": true
    }
  },
  "nbformat": 4,
  "nbformat_minor": 0
}